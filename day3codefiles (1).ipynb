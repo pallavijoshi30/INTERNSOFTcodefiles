{
  "nbformat": 4,
  "nbformat_minor": 0,
  "metadata": {
    "colab": {
      "name": "day3codefiles.ipynb",
      "provenance": []
    },
    "kernelspec": {
      "name": "python3",
      "display_name": "Python 3"
    }
  },
  "cells": [
    {
      "cell_type": "code",
      "metadata": {
        "id": "8LU6HTZpxwEm"
      },
      "source": [
        "# Can create a tuple with mixed types\r\n",
        "t = (1,2,3)"
      ],
      "execution_count": 4,
      "outputs": []
    },
    {
      "cell_type": "code",
      "metadata": {
        "colab": {
          "base_uri": "https://localhost:8080/"
        },
        "id": "8FFhQ4RYx4ec",
        "outputId": "69f42f8b-28d4-4dfc-de0a-748b6fe10709"
      },
      "source": [
        "# Check len just like a list\r\n",
        "len(t)"
      ],
      "execution_count": 2,
      "outputs": [
        {
          "output_type": "execute_result",
          "data": {
            "text/plain": [
              "3"
            ]
          },
          "metadata": {
            "tags": []
          },
          "execution_count": 2
        }
      ]
    },
    {
      "cell_type": "code",
      "metadata": {
        "colab": {
          "base_uri": "https://localhost:8080/"
        },
        "id": "Orw7tyAsx4h0",
        "outputId": "850a7aba-359c-4243-c9f1-89ebc5c25ed2"
      },
      "source": [
        "# Can also mix object types\r\n",
        "t = ('one',2)\r\n",
        "\r\n",
        "# Show\r\n",
        "t"
      ],
      "execution_count": 5,
      "outputs": [
        {
          "output_type": "execute_result",
          "data": {
            "text/plain": [
              "('one', 2)"
            ]
          },
          "metadata": {
            "tags": []
          },
          "execution_count": 5
        }
      ]
    },
    {
      "cell_type": "code",
      "metadata": {
        "colab": {
          "base_uri": "https://localhost:8080/",
          "height": 35
        },
        "id": "ZLHlaX1Yx4k1",
        "outputId": "0e6e9fa6-b8ec-450a-e900-05390d6ff4d8"
      },
      "source": [
        "# Use indexing just like we did in lists\r\n",
        "t[0]"
      ],
      "execution_count": 6,
      "outputs": [
        {
          "output_type": "execute_result",
          "data": {
            "application/vnd.google.colaboratory.intrinsic+json": {
              "type": "string"
            },
            "text/plain": [
              "'one'"
            ]
          },
          "metadata": {
            "tags": []
          },
          "execution_count": 6
        }
      ]
    },
    {
      "cell_type": "code",
      "metadata": {
        "colab": {
          "base_uri": "https://localhost:8080/"
        },
        "id": "eSnr2OC4x4nP",
        "outputId": "fb07399e-4453-4d07-e84c-72be90a9f77f"
      },
      "source": [
        "# Slicing just like a list\r\n",
        "t[-1]"
      ],
      "execution_count": 7,
      "outputs": [
        {
          "output_type": "execute_result",
          "data": {
            "text/plain": [
              "2"
            ]
          },
          "metadata": {
            "tags": []
          },
          "execution_count": 7
        }
      ]
    },
    {
      "cell_type": "code",
      "metadata": {
        "colab": {
          "base_uri": "https://localhost:8080/"
        },
        "id": "UDycRt8Rx4qO",
        "outputId": "b397a9c4-fc4b-47c0-afc1-a65c8128660e"
      },
      "source": [
        "# Use .index to enter a value and return the index\r\n",
        "t.index('one')"
      ],
      "execution_count": 8,
      "outputs": [
        {
          "output_type": "execute_result",
          "data": {
            "text/plain": [
              "0"
            ]
          },
          "metadata": {
            "tags": []
          },
          "execution_count": 8
        }
      ]
    },
    {
      "cell_type": "code",
      "metadata": {
        "colab": {
          "base_uri": "https://localhost:8080/"
        },
        "id": "e7CX3Krbx4tI",
        "outputId": "3e01f5d5-d8dc-4473-98e5-d7e927e3e5ba"
      },
      "source": [
        "# Use .count to count the number of times a value appears\r\n",
        "t.count('one')"
      ],
      "execution_count": 9,
      "outputs": [
        {
          "output_type": "execute_result",
          "data": {
            "text/plain": [
              "1"
            ]
          },
          "metadata": {
            "tags": []
          },
          "execution_count": 9
        }
      ]
    },
    {
      "cell_type": "code",
      "metadata": {
        "id": "DKAJFDSEEX2J"
      },
      "source": [
        "x = set()"
      ],
      "execution_count": null,
      "outputs": []
    },
    {
      "cell_type": "code",
      "metadata": {
        "id": "PL5TKcbFEYAx"
      },
      "source": [
        "# We add to sets with the add() method\r\n",
        "x.add(1)"
      ],
      "execution_count": null,
      "outputs": []
    },
    {
      "cell_type": "code",
      "metadata": {
        "id": "pVXzSD7pEYI5"
      },
      "source": [
        "#Show\r\n",
        "x"
      ],
      "execution_count": null,
      "outputs": []
    },
    {
      "cell_type": "code",
      "metadata": {
        "id": "iCTxrL7pEYS5"
      },
      "source": [
        "# Add a different element\r\n",
        "x.add(2)"
      ],
      "execution_count": null,
      "outputs": []
    },
    {
      "cell_type": "code",
      "metadata": {
        "id": "YuyqNC4wEaeR"
      },
      "source": [
        "#Show\r\n",
        "x"
      ],
      "execution_count": null,
      "outputs": []
    },
    {
      "cell_type": "code",
      "metadata": {
        "id": "qHzJ6PFCEaqg"
      },
      "source": [
        "# Try to add the same element\r\n",
        "x.add(1)"
      ],
      "execution_count": null,
      "outputs": []
    },
    {
      "cell_type": "code",
      "metadata": {
        "id": "RI84M3ZDEa0x"
      },
      "source": [
        "#Show\r\n",
        "x"
      ],
      "execution_count": null,
      "outputs": []
    },
    {
      "cell_type": "code",
      "metadata": {
        "id": "HmZ0vH6KEb3s"
      },
      "source": [
        "# Create a list with repeats\r\n",
        "l = [1,1,2,2,3,4,5,6,1,1]"
      ],
      "execution_count": null,
      "outputs": []
    },
    {
      "cell_type": "code",
      "metadata": {
        "id": "xskdo2hlEcFU"
      },
      "source": [
        "# Cast as set to get unique values\r\n",
        "set(l)"
      ],
      "execution_count": null,
      "outputs": []
    },
    {
      "cell_type": "code",
      "metadata": {
        "id": "g-JabGwGZ4hk"
      },
      "source": [
        "# Make a dictionary with {} and : to signify a key and a value\r\n",
        "my_dict = {'key1':'value1','key2':'value2'}"
      ],
      "execution_count": 15,
      "outputs": []
    },
    {
      "cell_type": "code",
      "metadata": {
        "colab": {
          "base_uri": "https://localhost:8080/",
          "height": 35
        },
        "id": "b6wPpSfBZ4no",
        "outputId": "d1377d6c-0081-4f5c-bba8-cfa667baa834"
      },
      "source": [
        "# Call values by their key\r\n",
        "my_dict['key2']"
      ],
      "execution_count": 16,
      "outputs": [
        {
          "output_type": "execute_result",
          "data": {
            "application/vnd.google.colaboratory.intrinsic+json": {
              "type": "string"
            },
            "text/plain": [
              "'value2'"
            ]
          },
          "metadata": {
            "tags": []
          },
          "execution_count": 16
        }
      ]
    },
    {
      "cell_type": "code",
      "metadata": {
        "id": "aqiL7yC4Z4rR"
      },
      "source": [
        "my_dict = {'key1':123,'key2':[12,23,33],'key3':['item0','item1','item2']}"
      ],
      "execution_count": 17,
      "outputs": []
    },
    {
      "cell_type": "code",
      "metadata": {
        "colab": {
          "base_uri": "https://localhost:8080/"
        },
        "id": "auTurZCuZ4t2",
        "outputId": "8ca19ed7-e64f-4ef8-f002-e7140eb732bb"
      },
      "source": [
        "#Let's call items from the dictionary\r\n",
        "my_dict['key3']"
      ],
      "execution_count": 18,
      "outputs": [
        {
          "output_type": "execute_result",
          "data": {
            "text/plain": [
              "['item0', 'item1', 'item2']"
            ]
          },
          "metadata": {
            "tags": []
          },
          "execution_count": 18
        }
      ]
    },
    {
      "cell_type": "code",
      "metadata": {
        "colab": {
          "base_uri": "https://localhost:8080/",
          "height": 35
        },
        "id": "V6Wlne00aDd4",
        "outputId": "ca238ad3-5bf5-46f5-df6d-c27319461bca"
      },
      "source": [
        "# Can call an index on that value\r\n",
        "my_dict['key3'][0]"
      ],
      "execution_count": 19,
      "outputs": [
        {
          "output_type": "execute_result",
          "data": {
            "application/vnd.google.colaboratory.intrinsic+json": {
              "type": "string"
            },
            "text/plain": [
              "'item0'"
            ]
          },
          "metadata": {
            "tags": []
          },
          "execution_count": 19
        }
      ]
    },
    {
      "cell_type": "code",
      "metadata": {
        "colab": {
          "base_uri": "https://localhost:8080/",
          "height": 35
        },
        "id": "2mq7jmzlaDhs",
        "outputId": "54cdc7c1-6d7a-477e-f04d-15447418b6fd"
      },
      "source": [
        "#Can then even call methods on that value\r\n",
        "my_dict['key3'][0].upper()"
      ],
      "execution_count": 20,
      "outputs": [
        {
          "output_type": "execute_result",
          "data": {
            "application/vnd.google.colaboratory.intrinsic+json": {
              "type": "string"
            },
            "text/plain": [
              "'ITEM0'"
            ]
          },
          "metadata": {
            "tags": []
          },
          "execution_count": 20
        }
      ]
    },
    {
      "cell_type": "code",
      "metadata": {
        "colab": {
          "base_uri": "https://localhost:8080/"
        },
        "id": "PYiCojxaaDk6",
        "outputId": "f4013d5b-3806-4443-bdab-902076efff56"
      },
      "source": [
        "my_dict['key1']"
      ],
      "execution_count": 21,
      "outputs": [
        {
          "output_type": "execute_result",
          "data": {
            "text/plain": [
              "123"
            ]
          },
          "metadata": {
            "tags": []
          },
          "execution_count": 21
        }
      ]
    },
    {
      "cell_type": "code",
      "metadata": {
        "id": "XM97qWacaIrM"
      },
      "source": [
        "# Subtract 123 from the value\r\n",
        "my_dict['key1'] = my_dict['key1'] - 123"
      ],
      "execution_count": 22,
      "outputs": []
    },
    {
      "cell_type": "code",
      "metadata": {
        "colab": {
          "base_uri": "https://localhost:8080/"
        },
        "id": "FUEiv1mWaIuy",
        "outputId": "2796b65c-4add-4847-fed9-6c44830bbe33"
      },
      "source": [
        "#Check\r\n",
        "my_dict['key1']"
      ],
      "execution_count": 23,
      "outputs": [
        {
          "output_type": "execute_result",
          "data": {
            "text/plain": [
              "0"
            ]
          },
          "metadata": {
            "tags": []
          },
          "execution_count": 23
        }
      ]
    },
    {
      "cell_type": "code",
      "metadata": {
        "colab": {
          "base_uri": "https://localhost:8080/"
        },
        "id": "oikhZUQraIyK",
        "outputId": "b81321a9-998b-442d-c362-c0a4be7d3838"
      },
      "source": [
        "# Set the object equal to itself minus 123 \r\n",
        "my_dict['key1'] -= 123\r\n",
        "my_dict['key1']"
      ],
      "execution_count": 24,
      "outputs": [
        {
          "output_type": "execute_result",
          "data": {
            "text/plain": [
              "-123"
            ]
          },
          "metadata": {
            "tags": []
          },
          "execution_count": 24
        }
      ]
    },
    {
      "cell_type": "code",
      "metadata": {
        "id": "n8jUoGnDaI1I"
      },
      "source": [
        "# Create a new dictionary\r\n",
        "d = {}"
      ],
      "execution_count": 25,
      "outputs": []
    },
    {
      "cell_type": "code",
      "metadata": {
        "id": "NX9ZTG4aaDoL"
      },
      "source": [
        "# Create a new key through assignment\r\n",
        "d['animal'] = 'Dog'"
      ],
      "execution_count": 27,
      "outputs": []
    },
    {
      "cell_type": "code",
      "metadata": {
        "id": "YBN7HE5NaxmO"
      },
      "source": [
        "# Can do this with any object\r\n",
        "d['answer'] = 42"
      ],
      "execution_count": 28,
      "outputs": []
    },
    {
      "cell_type": "code",
      "metadata": {
        "colab": {
          "base_uri": "https://localhost:8080/"
        },
        "id": "K324rg7saxpx",
        "outputId": "e602238a-bb98-4a7b-bef5-c8ba716d1574"
      },
      "source": [
        "#Show\r\n",
        "d"
      ],
      "execution_count": 29,
      "outputs": [
        {
          "output_type": "execute_result",
          "data": {
            "text/plain": [
              "{'animal': 'Dog', 'answer': 42}"
            ]
          },
          "metadata": {
            "tags": []
          },
          "execution_count": 29
        }
      ]
    },
    {
      "cell_type": "code",
      "metadata": {
        "id": "69qyA_JYaxs4"
      },
      "source": [
        "# Dictionary nested inside a dictionary nested in side a dictionary\r\n",
        "d = {'key1':{'nestkey':{'subnestkey':'value'}}}"
      ],
      "execution_count": 30,
      "outputs": []
    },
    {
      "cell_type": "code",
      "metadata": {
        "colab": {
          "base_uri": "https://localhost:8080/",
          "height": 35
        },
        "id": "uJ45iyuzaxwl",
        "outputId": "c2501aba-17a9-4d5b-ed4e-cf3c1a705201"
      },
      "source": [
        "# Keep calling the keys\r\n",
        "d['key1']['nestkey']['subnestkey']"
      ],
      "execution_count": 31,
      "outputs": [
        {
          "output_type": "execute_result",
          "data": {
            "application/vnd.google.colaboratory.intrinsic+json": {
              "type": "string"
            },
            "text/plain": [
              "'value'"
            ]
          },
          "metadata": {
            "tags": []
          },
          "execution_count": 31
        }
      ]
    },
    {
      "cell_type": "code",
      "metadata": {
        "id": "4Br4tKvPa9Zp"
      },
      "source": [
        "# Create a typical dictionary\r\n",
        "d = {'key1':1,'key2':2,'key3':3}"
      ],
      "execution_count": 32,
      "outputs": []
    },
    {
      "cell_type": "code",
      "metadata": {
        "colab": {
          "base_uri": "https://localhost:8080/"
        },
        "id": "Ti_JXDQUa9gC",
        "outputId": "41412e92-52c9-4890-e456-6ce54d167f36"
      },
      "source": [
        "# Method to return a list of all keys \r\n",
        "d.keys()"
      ],
      "execution_count": 33,
      "outputs": [
        {
          "output_type": "execute_result",
          "data": {
            "text/plain": [
              "dict_keys(['key1', 'key2', 'key3'])"
            ]
          },
          "metadata": {
            "tags": []
          },
          "execution_count": 33
        }
      ]
    },
    {
      "cell_type": "code",
      "metadata": {
        "colab": {
          "base_uri": "https://localhost:8080/"
        },
        "id": "6WHq8AY1a9ky",
        "outputId": "5deb6fd3-68a9-4a2f-d51d-897d9b558ed9"
      },
      "source": [
        "# Method to grab all values\r\n",
        "d.values()"
      ],
      "execution_count": 34,
      "outputs": [
        {
          "output_type": "execute_result",
          "data": {
            "text/plain": [
              "dict_values([1, 2, 3])"
            ]
          },
          "metadata": {
            "tags": []
          },
          "execution_count": 34
        }
      ]
    },
    {
      "cell_type": "code",
      "metadata": {
        "colab": {
          "base_uri": "https://localhost:8080/"
        },
        "id": "t1dCgpJwbHya",
        "outputId": "e9a3e3ad-bf3e-429e-9212-2ad8056ecc35"
      },
      "source": [
        "# Method to return tuples of all items  (we'll learn about tuples soon)\r\n",
        "d.items()"
      ],
      "execution_count": 35,
      "outputs": [
        {
          "output_type": "execute_result",
          "data": {
            "text/plain": [
              "dict_items([('key1', 1), ('key2', 2), ('key3', 3)])"
            ]
          },
          "metadata": {
            "tags": []
          },
          "execution_count": 35
        }
      ]
    },
    {
      "cell_type": "code",
      "metadata": {
        "colab": {
          "base_uri": "https://localhost:8080/"
        },
        "id": "RU2Lp4XIbH6G",
        "outputId": "4dae4d09-2005-4835-dbe0-9f165c27daf6"
      },
      "source": [
        "print(list(range(10)))"
      ],
      "execution_count": 36,
      "outputs": [
        {
          "output_type": "stream",
          "text": [
            "[0, 1, 2, 3, 4, 5, 6, 7, 8, 9]\n"
          ],
          "name": "stdout"
        }
      ]
    },
    {
      "cell_type": "code",
      "metadata": {
        "colab": {
          "base_uri": "https://localhost:8080/"
        },
        "id": "WTxugviRbH-x",
        "outputId": "7b39dec4-bbc0-4382-e88c-404114cfe783"
      },
      "source": [
        "{x:x**2 for x in range(10)}"
      ],
      "execution_count": 37,
      "outputs": [
        {
          "output_type": "execute_result",
          "data": {
            "text/plain": [
              "{0: 0, 1: 1, 2: 4, 3: 9, 4: 16, 5: 25, 6: 36, 7: 49, 8: 64, 9: 81}"
            ]
          },
          "metadata": {
            "tags": []
          },
          "execution_count": 37
        }
      ]
    },
    {
      "cell_type": "code",
      "metadata": {
        "id": "Nbv1KLeIa9p7"
      },
      "source": [
        "def name_of_function(arg1,arg2):\r\n",
        "    \r\n",
        "    '''\r\n",
        "    This is where the function's Document String (doc-string) goes\r\n",
        "    '''\r\n",
        "    # Do stuff here\r\n",
        "    #return desired result"
      ],
      "execution_count": 38,
      "outputs": []
    },
    {
      "cell_type": "code",
      "metadata": {
        "id": "jQWv3t0ua9uq"
      },
      "source": [
        "def say_hello():\r\n",
        "    print('hello')"
      ],
      "execution_count": 39,
      "outputs": []
    },
    {
      "cell_type": "code",
      "metadata": {
        "colab": {
          "base_uri": "https://localhost:8080/"
        },
        "id": "TxotMVQ8bcd0",
        "outputId": "1d491156-3d83-4d50-fd99-5c5ce34b49d9"
      },
      "source": [
        "say_hello()"
      ],
      "execution_count": 40,
      "outputs": [
        {
          "output_type": "stream",
          "text": [
            "hello\n"
          ],
          "name": "stdout"
        }
      ]
    },
    {
      "cell_type": "code",
      "metadata": {
        "id": "xFMGW0rYbchP"
      },
      "source": [
        "def greeting(name):\r\n",
        "    print('Hello %s' %name)\r\n",
        "    print('how are you doing %s'%name)"
      ],
      "execution_count": 41,
      "outputs": []
    },
    {
      "cell_type": "code",
      "metadata": {
        "colab": {
          "base_uri": "https://localhost:8080/"
        },
        "id": "6T8xedWYbckb",
        "outputId": "fedb465e-ab03-49b4-83d9-13a63b1def8f"
      },
      "source": [
        "greeting('Jose')"
      ],
      "execution_count": 42,
      "outputs": [
        {
          "output_type": "stream",
          "text": [
            "Hello Jose\n",
            "how are you doing Jose\n"
          ],
          "name": "stdout"
        }
      ]
    },
    {
      "cell_type": "code",
      "metadata": {
        "id": "nL_YtwHMbcnY"
      },
      "source": [
        "def add_num(num1,num2):\r\n",
        "    return num1+num2"
      ],
      "execution_count": 44,
      "outputs": []
    },
    {
      "cell_type": "code",
      "metadata": {
        "colab": {
          "base_uri": "https://localhost:8080/"
        },
        "id": "jd6szT0ybcqv",
        "outputId": "bc5d96d1-e600-4bbd-eaff-971b1b7ba028"
      },
      "source": [
        "add_num(4,5)"
      ],
      "execution_count": 48,
      "outputs": [
        {
          "output_type": "execute_result",
          "data": {
            "text/plain": [
              "9"
            ]
          },
          "metadata": {
            "tags": []
          },
          "execution_count": 48
        }
      ]
    },
    {
      "cell_type": "code",
      "metadata": {
        "id": "8lLMBjOCbcub"
      },
      "source": [
        "# Can also save as variable due to return\r\n",
        "result = add_num(4,5)"
      ],
      "execution_count": 50,
      "outputs": []
    },
    {
      "cell_type": "code",
      "metadata": {
        "colab": {
          "base_uri": "https://localhost:8080/"
        },
        "id": "j63pFfNYb1UK",
        "outputId": "24c3c536-6f34-402b-8fb6-c5ef67564649"
      },
      "source": [
        "print(result)"
      ],
      "execution_count": 51,
      "outputs": [
        {
          "output_type": "stream",
          "text": [
            "9\n"
          ],
          "name": "stdout"
        }
      ]
    },
    {
      "cell_type": "code",
      "metadata": {
        "colab": {
          "base_uri": "https://localhost:8080/"
        },
        "id": "ghQTBuh0b1YV",
        "outputId": "eff8b267-f40d-4641-9b40-59861fafa55c"
      },
      "source": [
        "print(add_num('one\\t','two'))"
      ],
      "execution_count": 52,
      "outputs": [
        {
          "output_type": "stream",
          "text": [
            "one\ttwo\n"
          ],
          "name": "stdout"
        }
      ]
    },
    {
      "cell_type": "code",
      "metadata": {
        "id": "LCBkKj7db1cX"
      },
      "source": [
        "def is_prime(num):\r\n",
        "    '''\r\n",
        "    Naive method of checking for primes. \r\n",
        "    '''\r\n",
        "    for n in range(2,num):\r\n",
        "        if num % n == 0:\r\n",
        "            print('not prime')\r\n",
        "            break\r\n",
        "    else: # If never mod zero, then prime\r\n",
        "        print('prime')"
      ],
      "execution_count": 53,
      "outputs": []
    },
    {
      "cell_type": "code",
      "metadata": {
        "colab": {
          "base_uri": "https://localhost:8080/"
        },
        "id": "MtxlL3B4b1fl",
        "outputId": "ddd2a8df-06da-4740-c5f3-6d60c98bd7d6"
      },
      "source": [
        "is_prime(11)"
      ],
      "execution_count": 54,
      "outputs": [
        {
          "output_type": "stream",
          "text": [
            "prime\n"
          ],
          "name": "stdout"
        }
      ]
    },
    {
      "cell_type": "code",
      "metadata": {
        "id": "Zwm9vkoYcA84"
      },
      "source": [
        "import math\r\n",
        "\r\n",
        "def is_prime(num):\r\n",
        "    '''\r\n",
        "    A Better method of checking for primes. \r\n",
        "    '''\r\n",
        "    if num % 2 == 0 and num > 2: \r\n",
        "        return False\r\n",
        "    for i in range(3, int(math.sqrt(num)) + 1, 2):\r\n",
        "        if num % i == 0:\r\n",
        "            return False\r\n",
        "    return True"
      ],
      "execution_count": 55,
      "outputs": []
    },
    {
      "cell_type": "code",
      "metadata": {
        "colab": {
          "base_uri": "https://localhost:8080/"
        },
        "id": "it-Lc0iLcBCI",
        "outputId": "fd6eed88-ea38-416f-90ba-d353542abf87"
      },
      "source": [
        "is_prime(11)"
      ],
      "execution_count": 56,
      "outputs": [
        {
          "output_type": "execute_result",
          "data": {
            "text/plain": [
              "True"
            ]
          },
          "metadata": {
            "tags": []
          },
          "execution_count": 56
        }
      ]
    },
    {
      "cell_type": "code",
      "metadata": {
        "id": "n7GvJU_YcBHZ"
      },
      "source": [
        "# Generator function for the cube of numbers (power of 3)\r\n",
        "def gencubes(n):\r\n",
        "    for num in range(n):\r\n",
        "        yield num**3"
      ],
      "execution_count": 57,
      "outputs": []
    },
    {
      "cell_type": "code",
      "metadata": {
        "colab": {
          "base_uri": "https://localhost:8080/"
        },
        "id": "FetODKxLcKfe",
        "outputId": "ad47a2a7-382f-4ade-ab10-ce39d714f842"
      },
      "source": [
        "for x in gencubes(6):\r\n",
        "    print(x)"
      ],
      "execution_count": 58,
      "outputs": [
        {
          "output_type": "stream",
          "text": [
            "0\n",
            "1\n",
            "8\n",
            "27\n",
            "64\n",
            "125\n"
          ],
          "name": "stdout"
        }
      ]
    },
    {
      "cell_type": "code",
      "metadata": {
        "id": "NuWQx6_CcKn-"
      },
      "source": [
        "def genfibon(n):\r\n",
        "    '''\r\n",
        "    Generate a fibonacci sequence up to n\r\n",
        "    '''\r\n",
        "    a = 1\r\n",
        "    b = 1\r\n",
        "    for i in range(n):\r\n",
        "        yield a\r\n",
        "        a,b = b,a+b"
      ],
      "execution_count": 59,
      "outputs": []
    },
    {
      "cell_type": "code",
      "metadata": {
        "colab": {
          "base_uri": "https://localhost:8080/"
        },
        "id": "uHyxx_PRcKwH",
        "outputId": "618b3b3b-3eed-409f-ffd4-d282eb856f58"
      },
      "source": [
        "for num in genfibon(10):\r\n",
        "    print(num)"
      ],
      "execution_count": 60,
      "outputs": [
        {
          "output_type": "stream",
          "text": [
            "1\n",
            "1\n",
            "2\n",
            "3\n",
            "5\n",
            "8\n",
            "13\n",
            "21\n",
            "34\n",
            "55\n"
          ],
          "name": "stdout"
        }
      ]
    },
    {
      "cell_type": "code",
      "metadata": {
        "id": "vYXfps3xcUYF"
      },
      "source": [
        "def fibon(n):\r\n",
        "    a = 1\r\n",
        "    b = 1\r\n",
        "    output = []\r\n",
        "    \r\n",
        "    for i in range(n):\r\n",
        "        output.append(a)\r\n",
        "        a,b = b,a+b\r\n",
        "        \r\n",
        "    return output"
      ],
      "execution_count": 61,
      "outputs": []
    },
    {
      "cell_type": "code",
      "metadata": {
        "colab": {
          "base_uri": "https://localhost:8080/"
        },
        "id": "9fyMk1T0cUe-",
        "outputId": "f292674e-a8de-4530-987b-0ff782dd58c8"
      },
      "source": [
        "fibon(10)"
      ],
      "execution_count": 62,
      "outputs": [
        {
          "output_type": "execute_result",
          "data": {
            "text/plain": [
              "[1, 1, 2, 3, 5, 8, 13, 21, 34, 55]"
            ]
          },
          "metadata": {
            "tags": []
          },
          "execution_count": 62
        }
      ]
    },
    {
      "cell_type": "code",
      "metadata": {
        "colab": {
          "base_uri": "https://localhost:8080/"
        },
        "id": "LS-vWQxqcBMq",
        "outputId": "c2f4af9c-4c71-48c9-9d0a-8468220c3c7d"
      },
      "source": [
        "print(list(range(3)))"
      ],
      "execution_count": 63,
      "outputs": [
        {
          "output_type": "stream",
          "text": [
            "[0, 1, 2]\n"
          ],
          "name": "stdout"
        }
      ]
    },
    {
      "cell_type": "code",
      "metadata": {
        "id": "Qr3xwvxfcfBX"
      },
      "source": [
        "def simple_gen():\r\n",
        "    for x in range(3):\r\n",
        "        yield x"
      ],
      "execution_count": 64,
      "outputs": []
    },
    {
      "cell_type": "code",
      "metadata": {
        "id": "-k-ba7XccfJ_"
      },
      "source": [
        "# Assign simple_gen \r\n",
        "g = simple_gen()"
      ],
      "execution_count": 65,
      "outputs": []
    },
    {
      "cell_type": "code",
      "metadata": {
        "colab": {
          "base_uri": "https://localhost:8080/"
        },
        "id": "szugNjLmcfOc",
        "outputId": "46170cef-acf8-46e1-9315-f6fc2a49771f"
      },
      "source": [
        "print(next(g))"
      ],
      "execution_count": 66,
      "outputs": [
        {
          "output_type": "stream",
          "text": [
            "0\n"
          ],
          "name": "stdout"
        }
      ]
    },
    {
      "cell_type": "code",
      "metadata": {
        "colab": {
          "base_uri": "https://localhost:8080/"
        },
        "id": "wXYwxWtZcfUp",
        "outputId": "0736c7f8-353c-44e9-9a64-33a951c7f034"
      },
      "source": [
        "print(next(g))"
      ],
      "execution_count": 67,
      "outputs": [
        {
          "output_type": "stream",
          "text": [
            "1\n"
          ],
          "name": "stdout"
        }
      ]
    },
    {
      "cell_type": "code",
      "metadata": {
        "colab": {
          "base_uri": "https://localhost:8080/"
        },
        "id": "0cpeKvuWcfYd",
        "outputId": "bcb7895e-a214-41fd-fa47-e4aa42e672ae"
      },
      "source": [
        "print(next(g))"
      ],
      "execution_count": 68,
      "outputs": [
        {
          "output_type": "stream",
          "text": [
            "2\n"
          ],
          "name": "stdout"
        }
      ]
    },
    {
      "cell_type": "code",
      "metadata": {
        "colab": {
          "base_uri": "https://localhost:8080/"
        },
        "id": "t7AqFMY2cfgf",
        "outputId": "4fbc660f-cd7b-477e-ac6a-91e5293594f3"
      },
      "source": [
        "s = 'hello'\r\n",
        "\r\n",
        "#Iterate over string\r\n",
        "for i in s:\r\n",
        "    print(i)"
      ],
      "execution_count": 70,
      "outputs": [
        {
          "output_type": "stream",
          "text": [
            "h\n",
            "e\n",
            "l\n",
            "l\n",
            "o\n"
          ],
          "name": "stdout"
        }
      ]
    },
    {
      "cell_type": "code",
      "metadata": {
        "id": "cunzAdcbcfoZ"
      },
      "source": [
        "def fahrenheit(T):\r\n",
        "    return ((float(9)/5)*T + 32)\r\n",
        "def celsius(T):\r\n",
        "    return (float(5)/9)*(T-32)\r\n",
        "    \r\n",
        "temp = [0, 22.5, 40,100]"
      ],
      "execution_count": 72,
      "outputs": []
    },
    {
      "cell_type": "code",
      "metadata": {
        "colab": {
          "base_uri": "https://localhost:8080/"
        },
        "id": "H4MDrEvrcfrg",
        "outputId": "c0aff6ae-ba26-44f7-aba7-bb50879d63bd"
      },
      "source": [
        "F_temps = list(map(fahrenheit, temp))\r\n",
        "\r\n",
        "#Show\r\n",
        "F_temps"
      ],
      "execution_count": 73,
      "outputs": [
        {
          "output_type": "execute_result",
          "data": {
            "text/plain": [
              "[32.0, 72.5, 104.0, 212.0]"
            ]
          },
          "metadata": {
            "tags": []
          },
          "execution_count": 73
        }
      ]
    },
    {
      "cell_type": "code",
      "metadata": {
        "colab": {
          "base_uri": "https://localhost:8080/"
        },
        "id": "QRHPc0Y9cfu2",
        "outputId": "8c204cfe-0566-4279-eb69-17d70736a2bf"
      },
      "source": [
        "a = [1,2,3,4]\r\n",
        "b = [5,6,7,8]\r\n",
        "c = [9,10,11,12]\r\n",
        "\r\n",
        "list(map(lambda x,y:x+y, a,b))"
      ],
      "execution_count": 74,
      "outputs": [
        {
          "output_type": "execute_result",
          "data": {
            "text/plain": [
              "[6, 8, 10, 12]"
            ]
          },
          "metadata": {
            "tags": []
          },
          "execution_count": 74
        }
      ]
    },
    {
      "cell_type": "code",
      "metadata": {
        "id": "5vs9514scfx1"
      },
      "source": [
        "# Now all three lists\r\n",
        "list(map(lambda x,y,z:x+y+z, a,b,c))"
      ],
      "execution_count": null,
      "outputs": []
    },
    {
      "cell_type": "code",
      "metadata": {
        "colab": {
          "base_uri": "https://localhost:8080/"
        },
        "id": "aUPOCH01cf09",
        "outputId": "72aea8c7-e15b-4055-983a-55aa67f56155"
      },
      "source": [
        "from functools import reduce\r\n",
        "lst =[47,11,42,13]\r\n",
        "reduce(lambda x,y: x+y,lst)"
      ],
      "execution_count": 75,
      "outputs": [
        {
          "output_type": "execute_result",
          "data": {
            "text/plain": [
              "113"
            ]
          },
          "metadata": {
            "tags": []
          },
          "execution_count": 75
        }
      ]
    },
    {
      "cell_type": "code",
      "metadata": {
        "id": "wY8LcW-XdZRV"
      },
      "source": [
        "from IPython.display import Image\r\n",
        "Image('http://www.python-course.eu/images/reduce_diagram.png')"
      ],
      "execution_count": null,
      "outputs": []
    },
    {
      "cell_type": "code",
      "metadata": {
        "id": "Wc8r0chOdZWM"
      },
      "source": [
        "#Find the maximum of a sequence (This already exists as max())\r\n",
        "max_find = lambda a,b: a if (a > b) else b"
      ],
      "execution_count": null,
      "outputs": []
    },
    {
      "cell_type": "code",
      "metadata": {
        "colab": {
          "base_uri": "https://localhost:8080/"
        },
        "id": "KOOlI-oTdZbE",
        "outputId": "e64c6243-99f3-435f-b3f6-2417c012c647"
      },
      "source": [
        "#Find max\r\n",
        "print(lst)\r\n",
        "reduce(lambda a,b: a if (a > b) else b,lst)"
      ],
      "execution_count": 76,
      "outputs": [
        {
          "output_type": "stream",
          "text": [
            "[47, 11, 42, 13]\n"
          ],
          "name": "stdout"
        },
        {
          "output_type": "execute_result",
          "data": {
            "text/plain": [
              "47"
            ]
          },
          "metadata": {
            "tags": []
          },
          "execution_count": 76
        }
      ]
    },
    {
      "cell_type": "code",
      "metadata": {
        "id": "3-lWzSkOdZf-"
      },
      "source": [
        "#First let's make a function\r\n",
        "def even_check(num):\r\n",
        "    if num%2 ==0:\r\n",
        "        return True"
      ],
      "execution_count": 77,
      "outputs": []
    },
    {
      "cell_type": "code",
      "metadata": {
        "colab": {
          "base_uri": "https://localhost:8080/"
        },
        "id": "H7wPhvXndnoP",
        "outputId": "81a78cb0-ce6f-4a01-d1ba-18cdcc137d67"
      },
      "source": [
        "lst =range(20)\r\n",
        "print(list(lst))\r\n",
        "\r\n",
        "list(filter(even_check,lst))"
      ],
      "execution_count": 78,
      "outputs": [
        {
          "output_type": "stream",
          "text": [
            "[0, 1, 2, 3, 4, 5, 6, 7, 8, 9, 10, 11, 12, 13, 14, 15, 16, 17, 18, 19]\n"
          ],
          "name": "stdout"
        },
        {
          "output_type": "execute_result",
          "data": {
            "text/plain": [
              "[0, 2, 4, 6, 8, 10, 12, 14, 16, 18]"
            ]
          },
          "metadata": {
            "tags": []
          },
          "execution_count": 78
        }
      ]
    },
    {
      "cell_type": "code",
      "metadata": {
        "colab": {
          "base_uri": "https://localhost:8080/"
        },
        "id": "R1aIxt7CdnvC",
        "outputId": "257a6abf-6e59-48b7-c5e3-c244428bf56a"
      },
      "source": [
        "list(filter(lambda x: x%2==0,lst))"
      ],
      "execution_count": 79,
      "outputs": [
        {
          "output_type": "execute_result",
          "data": {
            "text/plain": [
              "[0, 2, 4, 6, 8, 10, 12, 14, 16, 18]"
            ]
          },
          "metadata": {
            "tags": []
          },
          "execution_count": 79
        }
      ]
    },
    {
      "cell_type": "code",
      "metadata": {
        "id": "ZZwoPTm0dn1X"
      },
      "source": [
        ""
      ],
      "execution_count": null,
      "outputs": []
    },
    {
      "cell_type": "code",
      "metadata": {
        "id": "iU8SBmx1dn7T"
      },
      "source": [
        ""
      ],
      "execution_count": null,
      "outputs": []
    }
  ]
}