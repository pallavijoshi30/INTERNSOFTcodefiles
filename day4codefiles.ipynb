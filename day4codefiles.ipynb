{
  "nbformat": 4,
  "nbformat_minor": 0,
  "metadata": {
    "colab": {
      "name": "day4codefiles.ipynb",
      "provenance": []
    },
    "kernelspec": {
      "name": "python3",
      "display_name": "Python 3"
    }
  },
  "cells": [
    {
      "cell_type": "code",
      "metadata": {
        "id": "qR9XNIlSee7Q"
      },
      "source": [
        "class Person:\r\n",
        "    pass\r\n",
        "\r\n",
        "john_doe = Person()\r\n",
        "john_doe.name = \"Alec\"\r\n",
        "john_doe.surname = \"Baldwin\"\r\n",
        "john_doe.year_of_birth = 1958\r\n",
        "\r\n",
        "\r\n",
        "print(john_doe)\r\n",
        "print(\"%s %s was born in %d.\" %\r\n",
        "      (john_doe.name, john_doe.surname, john_doe.year_of_birth))"
      ],
      "execution_count": null,
      "outputs": []
    },
    {
      "cell_type": "code",
      "metadata": {
        "id": "FeSCAYxsets8"
      },
      "source": [
        "class Person:\r\n",
        "    def __init__(self, name, surname, year_of_birth):\r\n",
        "        self.name = name\r\n",
        "        self.surname = surname\r\n",
        "        self.year_of_birth = year_of_birth"
      ],
      "execution_count": 3,
      "outputs": []
    },
    {
      "cell_type": "code",
      "metadata": {
        "colab": {
          "base_uri": "https://localhost:8080/"
        },
        "id": "oU_0CNEcetwx",
        "outputId": "64c8aa6d-c8d4-469a-ff2b-694ffd0ef6ca"
      },
      "source": [
        "alec = Person(\"Alec\", \"Baldwin\", 1958)\r\n",
        "print(alec)\r\n",
        "print(\"%s %s was born in %d\"% (alec.name,alec.surname,alec.year_of_birth))"
      ],
      "execution_count": 2,
      "outputs": [
        {
          "output_type": "stream",
          "text": [
            "<__main__.Person object at 0x7f0d734247b8>\n",
            "Alec Baldwin was born in 1958\n"
          ],
          "name": "stdout"
        }
      ]
    },
    {
      "cell_type": "code",
      "metadata": {
        "colab": {
          "base_uri": "https://localhost:8080/"
        },
        "id": "7N47OypJetzj",
        "outputId": "6ab6f620-b6e8-4435-87ad-50e26dd034b9"
      },
      "source": [
        "class Person:\r\n",
        "    def __init__(self, name, surname, year_of_birth):\r\n",
        "        self.name = name\r\n",
        "        self.surname = surname\r\n",
        "        self.year_of_birth = year_of_birth\r\n",
        "    \r\n",
        "    def age(self, current_year):\r\n",
        "        return current_year - self.year_of_birth\r\n",
        "    \r\n",
        "    def __str__(self):\r\n",
        "        return \"%s %s was born in %d .\" % (self.name, self.surname, self.year_of_birth)\r\n",
        "    \r\n",
        "alec = Person(\"Alec\", \"Baldwin\", 1958)\r\n",
        "print(alec)\r\n",
        "print(alec.age(2019))"
      ],
      "execution_count": 4,
      "outputs": [
        {
          "output_type": "stream",
          "text": [
            "Alec Baldwin was born in 1958 .\n",
            "61\n"
          ],
          "name": "stdout"
        }
      ]
    },
    {
      "cell_type": "code",
      "metadata": {
        "colab": {
          "base_uri": "https://localhost:8080/"
        },
        "id": "9dTzbLrdet2C",
        "outputId": "38c2e97a-3598-4728-e57c-d954ebc05c10"
      },
      "source": [
        "class Student(Person):\r\n",
        "    def __init__(self, student_id, *args, **kwargs):\r\n",
        "        super(Student, self).__init__(*args, **kwargs)\r\n",
        "        self._student_id = student_id\r\n",
        "        \r\n",
        "charlie = Student(1, 'Charlie', 'Brown', 2006)\r\n",
        "print(charlie)\r\n",
        "print(type(charlie))\r\n",
        "print(isinstance(charlie, Person))\r\n",
        "print(isinstance(charlie, object))"
      ],
      "execution_count": 5,
      "outputs": [
        {
          "output_type": "stream",
          "text": [
            "Charlie Brown was born in 2006 .\n",
            "<class '__main__.Student'>\n",
            "True\n",
            "True\n"
          ],
          "name": "stdout"
        }
      ]
    },
    {
      "cell_type": "code",
      "metadata": {
        "colab": {
          "base_uri": "https://localhost:8080/"
        },
        "id": "UrocBKCqet4w",
        "outputId": "ae0ec686-ac9f-439f-f69e-fb7f52ba9db7"
      },
      "source": [
        "class Student(Person):\r\n",
        "    def __init__(self, student_id, *args, **kwargs):\r\n",
        "        super(Student, self).__init__(*args, **kwargs)\r\n",
        "        self._student_id = student_id\r\n",
        "        \r\n",
        "    def __str__(self):\r\n",
        "        return super(Student, self).__str__() + \" And has ID: %d\" % self._student_id\r\n",
        "        \r\n",
        "charlie = Student(1, 'Charlie', 'Brown', 2006)\r\n",
        "print(charlie)\r\n"
      ],
      "execution_count": 6,
      "outputs": [
        {
          "output_type": "stream",
          "text": [
            "Charlie Brown was born in 2006 . And has ID: 1\n"
          ],
          "name": "stdout"
        }
      ]
    },
    {
      "cell_type": "code",
      "metadata": {
        "colab": {
          "base_uri": "https://localhost:8080/"
        },
        "id": "aQxu33mKet7W",
        "outputId": "5fd9e451-4498-4c6a-b2f8-c690c7456b4f"
      },
      "source": [
        "def summer(a, b):\r\n",
        "    return a + b\r\n",
        "\r\n",
        "print(summer(1, 1))\r\n",
        "print(summer([\"a\", \"b\", \"c\"], [\"d\", \"e\"]))\r\n",
        "print(summer(\"abra\", \"cadabra\"))"
      ],
      "execution_count": 7,
      "outputs": [
        {
          "output_type": "stream",
          "text": [
            "2\n",
            "['a', 'b', 'c', 'd', 'e']\n",
            "abracadabra\n"
          ],
          "name": "stdout"
        }
      ]
    },
    {
      "cell_type": "code",
      "metadata": {
        "colab": {
          "base_uri": "https://localhost:8080/"
        },
        "id": "8GLM_BoKet90",
        "outputId": "d2526ca2-7c03-47e7-b739-5e1514f2c402"
      },
      "source": [
        "%%writefile superman.txt\r\n",
        "Hello, this is a quick superman test file"
      ],
      "execution_count": 8,
      "outputs": [
        {
          "output_type": "stream",
          "text": [
            "Writing superman.txt\n"
          ],
          "name": "stdout"
        }
      ]
    },
    {
      "cell_type": "code",
      "metadata": {
        "id": "i8znvRWEeuAq"
      },
      "source": [
        "# Add the second argument to the function, 'w' which stands for write\r\n",
        "my_file = open('superman.txt','w+')"
      ],
      "execution_count": null,
      "outputs": []
    },
    {
      "cell_type": "code",
      "metadata": {
        "id": "k0vXZr4yeuC9"
      },
      "source": [
        "# Write to the file\r\n",
        "my_file.write('This is a new line')"
      ],
      "execution_count": null,
      "outputs": []
    },
    {
      "cell_type": "code",
      "metadata": {
        "id": "xomfa6enfnB4"
      },
      "source": [
        "# Seek to the start of file (index 0)\r\n",
        "my_file.seek(0)"
      ],
      "execution_count": null,
      "outputs": []
    },
    {
      "cell_type": "code",
      "metadata": {
        "id": "VnyZdvkxfnGB"
      },
      "source": [
        "# Read the file\r\n",
        "my_file.read()"
      ],
      "execution_count": null,
      "outputs": []
    },
    {
      "cell_type": "code",
      "metadata": {
        "id": "lDokdhqyfnJM"
      },
      "source": [
        "%%writefile test.txt\r\n",
        "First Line\r\n",
        "Second Line"
      ],
      "execution_count": null,
      "outputs": []
    },
    {
      "cell_type": "code",
      "metadata": {
        "id": "6WK6qiVxfnMA"
      },
      "source": [
        "for line in open('test.txt'):\r\n",
        "    print(line)"
      ],
      "execution_count": null,
      "outputs": []
    },
    {
      "cell_type": "code",
      "metadata": {
        "id": "CJZJh39Uf9HR"
      },
      "source": [
        "from io import StringIO"
      ],
      "execution_count": null,
      "outputs": []
    },
    {
      "cell_type": "code",
      "metadata": {
        "id": "4oOGlFZRf9Kj"
      },
      "source": [
        "# Arbitrary String\r\n",
        "message = 'This is just a normal string.'"
      ],
      "execution_count": null,
      "outputs": []
    },
    {
      "cell_type": "code",
      "metadata": {
        "id": "pO-E9MDDf9NY"
      },
      "source": [
        "# Use StringIO method to set as file object\r\n",
        "f = StringIO(message)"
      ],
      "execution_count": null,
      "outputs": []
    },
    {
      "cell_type": "code",
      "metadata": {
        "id": "kcMnpno_f9P0"
      },
      "source": [
        "f.read()"
      ],
      "execution_count": null,
      "outputs": []
    },
    {
      "cell_type": "code",
      "metadata": {
        "id": "34lS-5g4gUC6"
      },
      "source": [
        "f.write(' Second line written to file like object')"
      ],
      "execution_count": null,
      "outputs": []
    },
    {
      "cell_type": "code",
      "metadata": {
        "colab": {
          "base_uri": "https://localhost:8080/",
          "height": 178
        },
        "id": "kRgXKHEkf9Wq",
        "outputId": "2ed7a961-410f-4261-9641-8f926fcbd4a1"
      },
      "source": [
        "# Reset cursor just like you would a file\r\n",
        "f.seek(0)"
      ],
      "execution_count": 13,
      "outputs": [
        {
          "output_type": "error",
          "ename": "NameError",
          "evalue": "ignored",
          "traceback": [
            "\u001b[0;31m---------------------------------------------------------------------------\u001b[0m",
            "\u001b[0;31mNameError\u001b[0m                                 Traceback (most recent call last)",
            "\u001b[0;32m<ipython-input-13-ca57c2626877>\u001b[0m in \u001b[0;36m<module>\u001b[0;34m()\u001b[0m\n\u001b[1;32m      1\u001b[0m \u001b[0;31m# Reset cursor just like you would a file\u001b[0m\u001b[0;34m\u001b[0m\u001b[0;34m\u001b[0m\u001b[0;34m\u001b[0m\u001b[0m\n\u001b[0;32m----> 2\u001b[0;31m \u001b[0mf\u001b[0m\u001b[0;34m.\u001b[0m\u001b[0mseek\u001b[0m\u001b[0;34m(\u001b[0m\u001b[0;36m0\u001b[0m\u001b[0;34m)\u001b[0m\u001b[0;34m\u001b[0m\u001b[0;34m\u001b[0m\u001b[0m\n\u001b[0m",
            "\u001b[0;31mNameError\u001b[0m: name 'f' is not defined"
          ]
        }
      ]
    },
    {
      "cell_type": "code",
      "metadata": {
        "id": "Lklc5mVYf9Y4"
      },
      "source": [
        "# Reset cursor just like you would a file\r\n",
        "f.seek(0)"
      ],
      "execution_count": null,
      "outputs": []
    },
    {
      "cell_type": "code",
      "metadata": {
        "id": "45DWZCpdf9do"
      },
      "source": [
        "# Read again\r\n",
        "f.read()"
      ],
      "execution_count": null,
      "outputs": []
    },
    {
      "cell_type": "code",
      "metadata": {
        "id": "tZKN7yYZf9hZ"
      },
      "source": [
        "[]"
      ],
      "execution_count": null,
      "outputs": []
    }
  ]
}