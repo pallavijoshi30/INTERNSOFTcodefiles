{
  "nbformat": 4,
  "nbformat_minor": 0,
  "metadata": {
    "colab": {
      "name": "day5codefiles.ipynb",
      "provenance": []
    },
    "kernelspec": {
      "name": "python3",
      "display_name": "Python 3"
    }
  },
  "cells": [
    {
      "cell_type": "code",
      "metadata": {
        "id": "gtbxZaJxtRxt"
      },
      "source": [
        "# import the library\r\n",
        "import math"
      ],
      "execution_count": 1,
      "outputs": []
    },
    {
      "cell_type": "code",
      "metadata": {
        "colab": {
          "base_uri": "https://localhost:8080/"
        },
        "id": "eFasRdx1tkH-",
        "outputId": "919cd015-ece9-47b5-8e65-13ca463720a8"
      },
      "source": [
        "# use it (ceiling rounding)\r\n",
        "math.ceil(2.4)"
      ],
      "execution_count": 2,
      "outputs": [
        {
          "output_type": "execute_result",
          "data": {
            "text/plain": [
              "3"
            ]
          },
          "metadata": {
            "tags": []
          },
          "execution_count": 2
        }
      ]
    },
    {
      "cell_type": "code",
      "metadata": {
        "colab": {
          "base_uri": "https://localhost:8080/"
        },
        "id": "y-Zb0H1HtkUc",
        "outputId": "9bad3eb7-2dea-4a75-d42e-0250c9cb529c"
      },
      "source": [
        "print(dir(math))"
      ],
      "execution_count": 3,
      "outputs": [
        {
          "output_type": "stream",
          "text": [
            "['__doc__', '__loader__', '__name__', '__package__', '__spec__', 'acos', 'acosh', 'asin', 'asinh', 'atan', 'atan2', 'atanh', 'ceil', 'copysign', 'cos', 'cosh', 'degrees', 'e', 'erf', 'erfc', 'exp', 'expm1', 'fabs', 'factorial', 'floor', 'fmod', 'frexp', 'fsum', 'gamma', 'gcd', 'hypot', 'inf', 'isclose', 'isfinite', 'isinf', 'isnan', 'ldexp', 'lgamma', 'log', 'log10', 'log1p', 'log2', 'modf', 'nan', 'pi', 'pow', 'radians', 'sin', 'sinh', 'sqrt', 'tan', 'tanh', 'tau', 'trunc']\n"
          ],
          "name": "stdout"
        }
      ]
    },
    {
      "cell_type": "code",
      "metadata": {
        "colab": {
          "base_uri": "https://localhost:8080/"
        },
        "id": "k387eH3GtkY0",
        "outputId": "3a9808a3-c128-4fed-b785-87995f9dcc86"
      },
      "source": [
        "help(math.ceil)"
      ],
      "execution_count": 4,
      "outputs": [
        {
          "output_type": "stream",
          "text": [
            "Help on built-in function ceil in module math:\n",
            "\n",
            "ceil(...)\n",
            "    ceil(x)\n",
            "    \n",
            "    Return the ceiling of x as an Integral.\n",
            "    This is the smallest integer >= x.\n",
            "\n"
          ],
          "name": "stdout"
        }
      ]
    },
    {
      "cell_type": "code",
      "metadata": {
        "colab": {
          "base_uri": "https://localhost:8080/"
        },
        "id": "CW6pV71UtkiM",
        "outputId": "ada4979a-4b3b-41c4-dde1-215fad79819e"
      },
      "source": [
        "print('Hello')"
      ],
      "execution_count": 5,
      "outputs": [
        {
          "output_type": "stream",
          "text": [
            "Hello\n"
          ],
          "name": "stdout"
        }
      ]
    },
    {
      "cell_type": "code",
      "metadata": {
        "colab": {
          "base_uri": "https://localhost:8080/"
        },
        "id": "tW216GBxtkms",
        "outputId": "90591996-fbc3-4866-fd38-c7a5159822db"
      },
      "source": [
        "try:\r\n",
        "    f = open('testfile','w')\r\n",
        "    f.write('Test write this')\r\n",
        "except IOError:\r\n",
        "    # This will only check for an IOError exception and then execute this print statement\r\n",
        "   print(\"Error: Could not find file or read data\")\r\n",
        "else:\r\n",
        "   print(\"Content written successfully\")\r\n",
        "   f.close()"
      ],
      "execution_count": 6,
      "outputs": [
        {
          "output_type": "stream",
          "text": [
            "Content written successfully\n"
          ],
          "name": "stdout"
        }
      ]
    },
    {
      "cell_type": "code",
      "metadata": {
        "colab": {
          "base_uri": "https://localhost:8080/"
        },
        "id": "WHEOBlV0tmNG",
        "outputId": "34011a31-0c91-4580-8a59-ef86ee7ab02c"
      },
      "source": [
        "try:\r\n",
        "    f = open('testfile','r')\r\n",
        "    f.write('Test write this')\r\n",
        "except IOError:\r\n",
        "    # This will only check for an IOError exception and then execute this print statement\r\n",
        "   print(\"Error: Could not find file or read data\")\r\n",
        "else:\r\n",
        "   print(\"Content written successfully\")\r\n",
        "   f.close()"
      ],
      "execution_count": 7,
      "outputs": [
        {
          "output_type": "stream",
          "text": [
            "Error: Could not find file or read data\n"
          ],
          "name": "stdout"
        }
      ]
    },
    {
      "cell_type": "code",
      "metadata": {
        "colab": {
          "base_uri": "https://localhost:8080/"
        },
        "id": "IzS1EnUCtmUA",
        "outputId": "0c945854-7920-4b54-899c-b1bcb84e1f64"
      },
      "source": [
        "try:\r\n",
        "    f = open('testfile','w')\r\n",
        "    f.write('Test write this')\r\n",
        "except:\r\n",
        "    # This will check for any exception and then execute this print statement\r\n",
        "   print(\"Error: Could not find file or read data\")\r\n",
        "else:\r\n",
        "   print(\"Content written successfully\")\r\n",
        "   f.close()"
      ],
      "execution_count": 8,
      "outputs": [
        {
          "output_type": "stream",
          "text": [
            "Content written successfully\n"
          ],
          "name": "stdout"
        }
      ]
    },
    {
      "cell_type": "code",
      "metadata": {
        "colab": {
          "base_uri": "https://localhost:8080/"
        },
        "id": "2pMfF5vNtmZc",
        "outputId": "b58f8376-44d0-42db-98b3-f8259762ab9e"
      },
      "source": [
        "try:\r\n",
        "   f = open(\"testfile\", \"w\")\r\n",
        "   f.write(\"Test write statement\")\r\n",
        "finally:\r\n",
        "   print(\"Always execute finally code blocks\")"
      ],
      "execution_count": 9,
      "outputs": [
        {
          "output_type": "stream",
          "text": [
            "Always execute finally code blocks\n"
          ],
          "name": "stdout"
        }
      ]
    },
    {
      "cell_type": "code",
      "metadata": {
        "id": "afSji_4Ctmf9"
      },
      "source": [
        "def askint():\r\n",
        "        try:\r\n",
        "            val = int(input(\"Please enter an integer: \"))\r\n",
        "        except:\r\n",
        "            print(\"Looks like you did not enter an integer!\")\r\n",
        "            \r\n",
        "        finally:\r\n",
        "            print(\"Finally, I executed!\")\r\n",
        "        print(val)       "
      ],
      "execution_count": 15,
      "outputs": []
    },
    {
      "cell_type": "code",
      "metadata": {
        "colab": {
          "base_uri": "https://localhost:8080/"
        },
        "id": "l9mhi7vqz3Ig",
        "outputId": "adba1ba3-8bfa-48d8-cc54-a017522d3ae2"
      },
      "source": [
        "askint()"
      ],
      "execution_count": 16,
      "outputs": [
        {
          "output_type": "stream",
          "text": [
            "Please enter an integer: 1\n",
            "Finally, I executed!\n",
            "1\n"
          ],
          "name": "stdout"
        }
      ]
    },
    {
      "cell_type": "code",
      "metadata": {
        "colab": {
          "base_uri": "https://localhost:8080/"
        },
        "id": "Dt8ooxMBz3NG",
        "outputId": "2f027c29-9900-4d8e-cc9b-e89ca7ca3970"
      },
      "source": [
        "askint()\r\n"
      ],
      "execution_count": 17,
      "outputs": [
        {
          "output_type": "stream",
          "text": [
            "Please enter an integer: 3\n",
            "Finally, I executed!\n",
            "3\n"
          ],
          "name": "stdout"
        }
      ]
    },
    {
      "cell_type": "code",
      "metadata": {
        "id": "uDEhegWtz3SH"
      },
      "source": [
        "def askint():\r\n",
        "        try:\r\n",
        "            val = int(input(\"Please enter an integer: \"))\r\n",
        "        except:\r\n",
        "            print(\"Looks like you did not enter an integer!\")\r\n",
        "            val = int(input(\"Try again-Please enter an integer: \"))\r\n",
        "        finally:\r\n",
        "            print(\"Finally, I executed!\")\r\n",
        "        print(val) "
      ],
      "execution_count": 18,
      "outputs": []
    },
    {
      "cell_type": "code",
      "metadata": {
        "colab": {
          "base_uri": "https://localhost:8080/"
        },
        "id": "i2h8N-x_0naj",
        "outputId": "f87c12f7-44db-4769-bc76-fe7ca7362a13"
      },
      "source": [
        "askint()"
      ],
      "execution_count": 19,
      "outputs": [
        {
          "output_type": "stream",
          "text": [
            "Please enter an integer: 2\n",
            "Finally, I executed!\n",
            "2\n"
          ],
          "name": "stdout"
        }
      ]
    },
    {
      "cell_type": "code",
      "metadata": {
        "id": "56PPaaS60ni7"
      },
      "source": [
        "def askint():\r\n",
        "    while True:\r\n",
        "        try:\r\n",
        "            val = int(input(\"Please enter an integer: \"))\r\n",
        "        except:\r\n",
        "            print(\"Looks like you did not enter an integer!\")\r\n",
        "            continue\r\n",
        "        else:\r\n",
        "            print('Yep thats an integer!')\r\n",
        "            break\r\n",
        "        finally:\r\n",
        "            print(\"Finally, I executed!\")\r\n",
        "        print(val) "
      ],
      "execution_count": null,
      "outputs": []
    },
    {
      "cell_type": "code",
      "metadata": {
        "colab": {
          "base_uri": "https://localhost:8080/"
        },
        "id": "Dd0p1pOL0npW",
        "outputId": "0a728d5e-b011-4e55-a571-dc8a53e8cc69"
      },
      "source": [
        "askint()"
      ],
      "execution_count": 20,
      "outputs": [
        {
          "output_type": "stream",
          "text": [
            "Please enter an integer: 4\n",
            "Finally, I executed!\n",
            "4\n"
          ],
          "name": "stdout"
        }
      ]
    },
    {
      "cell_type": "code",
      "metadata": {
        "colab": {
          "base_uri": "https://localhost:8080/"
        },
        "id": "Qh_MINXA0nwb",
        "outputId": "9b204cb6-1a3f-4511-add3-e9f0e87d1dd7"
      },
      "source": [
        "#!/usr/bin/python\r\n",
        "\r\n",
        "import sqlite3\r\n",
        "#connecting with the database.\r\n",
        "\r\n",
        "db = sqlite3.connect(\"my_database1.db\")\r\n",
        "\r\n",
        "# Drop table if it already exist using execute() method.\r\n",
        "db.execute(\"drop table if exists grades1\")\r\n",
        "\r\n",
        "# Create table as per requirement\r\n",
        "db.execute(\"create table grades1(id int, name text, score int)\")\r\n",
        "\r\n",
        "#inserting values inside the created table\r\n",
        "db.execute(\"insert into grades1(id, name, score) values(101, 'John',99 )\")\r\n",
        "db.execute(\"insert into grades1(id, name, score) values(102, 'Gary',90 )\")\r\n",
        "db.execute(\"insert into grades1(id, name, score) values(103, 'James', 80 )\")\r\n",
        "db.execute(\"insert into grades1(id, name, score) values(104, 'Cathy', 85 )\")\r\n",
        "db.execute(\"insert into grades1(id, name, score) values(105, 'Kris',95 )\")"
      ],
      "execution_count": 21,
      "outputs": [
        {
          "output_type": "execute_result",
          "data": {
            "text/plain": [
              "<sqlite3.Cursor at 0x7fac6415fa40>"
            ]
          },
          "metadata": {
            "tags": []
          },
          "execution_count": 21
        }
      ]
    },
    {
      "cell_type": "code",
      "metadata": {
        "id": "4iVkV1jb070V"
      },
      "source": [
        "db.commit()"
      ],
      "execution_count": 23,
      "outputs": []
    },
    {
      "cell_type": "code",
      "metadata": {
        "colab": {
          "base_uri": "https://localhost:8080/"
        },
        "id": "e80ZV5J5074N",
        "outputId": "c41a9efa-2bf4-4d6e-8997-41cf2495cbbf"
      },
      "source": [
        "results = db.execute(\"select * from grades1 order by id\")\r\n",
        "for row in results:\r\n",
        "    print(row)\r\n",
        "print(\"-\" * 60 )"
      ],
      "execution_count": 24,
      "outputs": [
        {
          "output_type": "stream",
          "text": [
            "(101, 'John', 99)\n",
            "(102, 'Gary', 90)\n",
            "(103, 'James', 80)\n",
            "(104, 'Cathy', 85)\n",
            "(105, 'Kris', 95)\n",
            "------------------------------------------------------------\n"
          ],
          "name": "stdout"
        }
      ]
    },
    {
      "cell_type": "code",
      "metadata": {
        "colab": {
          "base_uri": "https://localhost:8080/"
        },
        "id": "c1_SmVvX077n",
        "outputId": "2ec8dd59-212b-4177-c0e8-7bdae530397b"
      },
      "source": [
        "results = db.execute(\"select * from grades1 where name = 'Gary' \")\r\n",
        "for row in results:\r\n",
        "    print(row)\r\n",
        "print(\"-\" * 60 )"
      ],
      "execution_count": 25,
      "outputs": [
        {
          "output_type": "stream",
          "text": [
            "(102, 'Gary', 90)\n",
            "------------------------------------------------------------\n"
          ],
          "name": "stdout"
        }
      ]
    },
    {
      "cell_type": "code",
      "metadata": {
        "colab": {
          "base_uri": "https://localhost:8080/"
        },
        "id": "Xj9ScW3807_d",
        "outputId": "f155eeb6-06da-4b7f-db88-53bf5a8b8262"
      },
      "source": [
        "results = db.execute(\"select * from grades1 where score >= 90 \")\r\n",
        "for row in results:\r\n",
        "    print(row)\r\n",
        "print(\"-\" * 60 )"
      ],
      "execution_count": 26,
      "outputs": [
        {
          "output_type": "stream",
          "text": [
            "(101, 'John', 99)\n",
            "(102, 'Gary', 90)\n",
            "(105, 'Kris', 95)\n",
            "------------------------------------------------------------\n"
          ],
          "name": "stdout"
        }
      ]
    },
    {
      "cell_type": "code",
      "metadata": {
        "colab": {
          "base_uri": "https://localhost:8080/"
        },
        "id": "udTUiiVy1IwV",
        "outputId": "f28dc544-2778-4650-8e61-376fe7f14aa0"
      },
      "source": [
        "results = db.execute(\"select name, score from grades1 order by score desc \")\r\n",
        "for row in results:\r\n",
        "    print(row)\r\n",
        "print(\"-\" * 60 )"
      ],
      "execution_count": 27,
      "outputs": [
        {
          "output_type": "stream",
          "text": [
            "('John', 99)\n",
            "('Kris', 95)\n",
            "('Gary', 90)\n",
            "('Cathy', 85)\n",
            "('James', 80)\n",
            "------------------------------------------------------------\n"
          ],
          "name": "stdout"
        }
      ]
    },
    {
      "cell_type": "code",
      "metadata": {
        "colab": {
          "base_uri": "https://localhost:8080/"
        },
        "id": "0X2ll8ko1I4y",
        "outputId": "c3fd00be-72d0-4174-994b-2934b0d28b87"
      },
      "source": [
        "results = db.execute(\"select name, score from grades1 order by score\")\r\n",
        "for row in results:\r\n",
        "    print(row)\r\n",
        "print(\"-\" * 60 )"
      ],
      "execution_count": 28,
      "outputs": [
        {
          "output_type": "stream",
          "text": [
            "('James', 80)\n",
            "('Cathy', 85)\n",
            "('Gary', 90)\n",
            "('Kris', 95)\n",
            "('John', 99)\n",
            "------------------------------------------------------------\n"
          ],
          "name": "stdout"
        }
      ]
    },
    {
      "cell_type": "code",
      "metadata": {
        "id": "2RU6Pcrl1I_D"
      },
      "source": [
        "results = db.execute(\"select name, score from grades1 order by score\")\r\n",
        "for row in results:\r\n",
        "    print(row)"
      ],
      "execution_count": null,
      "outputs": []
    }
  ]
}